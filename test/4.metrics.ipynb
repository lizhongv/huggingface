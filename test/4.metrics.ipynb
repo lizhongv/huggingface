{
 "cells": [
  {
   "cell_type": "code",
   "execution_count": null,
   "id": "a2b862ab",
   "metadata": {},
   "outputs": [],
   "source": [
    "from datasets import list_metrics\n",
    "\n",
    "#列出评价指标\n",
    "metrics_list = list_metrics()\n",
    "len(metrics_list), metrics_list"
   ]
  },
  {
   "cell_type": "code",
   "execution_count": null,
   "id": "d699a36e",
   "metadata": {},
   "outputs": [],
   "source": [
    "from datasets import load_metric\n",
    "\n",
    "#加载一个评价指标\n",
    "glue = load_metric('glue', 'mrpc')\n",
    "\n",
    "# 打印说明文档\n",
    "print(glue.inputs_description)"
   ]
  },
  {
   "cell_type": "code",
   "execution_count": null,
   "id": "5711e3ea",
   "metadata": {},
   "outputs": [],
   "source": [
    "#计算一个评价指标\n",
    "predictions = [0, 1, 0]\n",
    "references = [0, 1, 1]\n",
    "\n",
    "final_score = glue.compute(predictions=predictions, \n",
    "                            references=references)\n",
    "\n",
    "final_score"
   ]
  },
  {
   "cell_type": "code",
   "execution_count": 3,
   "metadata": {
    "collapsed": false,
    "pycharm": {
     "name": "#%%\n"
    }
   },
   "outputs": [],
   "source": []
  }
 ],
 "metadata": {
  "kernelspec": {
   "display_name": "Python 3",
   "language": "python",
   "name": "python3"
  },
  "language_info": {
   "codemirror_mode": {
    "name": "ipython",
    "version": 3
   },
   "file_extension": ".py",
   "mimetype": "text/x-python",
   "name": "python",
   "nbconvert_exporter": "python",
   "pygments_lexer": "ipython3",
   "version": "3.10.4"
  },
  "vscode": {
   "interpreter": {
    "hash": "3ad933181bd8a04b432d3370b9dc3b0662ad032c4dfaa4e4f1596c548f763858"
   }
  }
 },
 "nbformat": 4,
 "nbformat_minor": 5
}
