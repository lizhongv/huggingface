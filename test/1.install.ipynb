{
 "cells": [
  {
   "cell_type": "code",
   "execution_count": 1,
   "id": "48469796",
   "metadata": {},
   "outputs": [],
   "source": [
    "# 环境\n",
    "# python=3.6\n",
    "# pytorch=1.10"
   ]
  },
  {
   "cell_type": "code",
   "execution_count": 2,
   "id": "c01fc811",
   "metadata": {},
   "outputs": [],
   "source": [
    "# 安装transformers\n",
    "# pip安装\n",
    "# pip install transformers\n",
    "\n",
    "# conda安装\n",
    "# conda install -c huggingface transformers"
   ]
  },
  {
   "cell_type": "code",
   "execution_count": 3,
   "id": "8e7adbd4",
   "metadata": {},
   "outputs": [],
   "source": [
    "# 安装datasets\n",
    "# pip安装\n",
    "# pip install datasets\n",
    "\n",
    "# conda安装\n",
    "# conda install -c huggingface -c conda-forge datasets"
   ]
  },
  {
   "cell_type": "code",
   "execution_count": 2,
   "metadata": {
    "collapsed": false,
    "pycharm": {
     "name": "#%%\n"
    }
   },
   "outputs": [],
   "source": [
    "# 来源于b站视频：https://www.bilibili.com/video/BV1a44y1H7Jc/?spm_id_from=333.999.header_right.history_list.click&vd_source=e8d035d27ac92c90b838a94cc2862646"
   ]
  },
  {
   "cell_type": "code",
   "execution_count": null,
   "metadata": {
    "collapsed": false,
    "pycharm": {
     "name": "#%%\n"
    }
   },
   "outputs": [],
   "source": []
  }
 ],
 "metadata": {
  "kernelspec": {
   "display_name": "Python 3",
   "language": "python",
   "name": "python3"
  },
  "language_info": {
   "codemirror_mode": {
    "name": "ipython",
    "version": 3
   },
   "file_extension": ".py",
   "mimetype": "text/x-python",
   "name": "python",
   "nbconvert_exporter": "python",
   "pygments_lexer": "ipython3",
   "version": "3.10.4 (main, Jan 18 2023, 00:26:41) [GCC 9.4.0]"
  },
  "vscode": {
   "interpreter": {
    "hash": "3ad933181bd8a04b432d3370b9dc3b0662ad032c4dfaa4e4f1596c548f763858"
   }
  }
 },
 "nbformat": 4,
 "nbformat_minor": 5
}
