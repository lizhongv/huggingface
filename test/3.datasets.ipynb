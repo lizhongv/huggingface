{
 "cells": [
  {
   "cell_type": "code",
   "execution_count": null,
   "id": "f7ec2e6b",
   "metadata": {},
   "outputs": [],
   "source": [
    "!pip install datasets"
   ]
  },
  {
   "cell_type": "code",
   "execution_count": 2,
   "id": "9c621a2c",
   "metadata": {},
   "outputs": [],
   "source": [
    "from datasets import load_dataset, load_from_disk, list_datasets"
   ]
  },
  {
   "cell_type": "code",
   "execution_count": null,
   "id": "4ac4e52d",
   "metadata": {},
   "outputs": [],
   "source": [
    "# 加载数据\n",
    "# https://zhuanlan.zhihu.com/p/548355568\n",
    "\n",
    "# 加载/保存 DatasetDict\n",
    "# dataset = load_dataset(path='seamew/ChnSentiCorp')  \n",
    "# dataset.save_to_disk(dataset_dict_path='data/ChnSentiCorp')\n",
    "# dataset = load_from_disk(\"data/ChnSentiCorp\")\n",
    "\n",
    "# 加载/保存 Dataset\n",
    "# train_dataset = load_dataset(path=\"seamew/ChnSentiCorp\", split=\"train\")\n",
    "# train_dataset.save_to_disk(\"data/temp/train\")\n",
    "# train_dataset = load_from_disk(\"data/temp/train\")\n",
    "\n",
    "train_dataset.features, train_dataset[0]"
   ]
  },
  {
   "cell_type": "code",
   "execution_count": null,
   "id": "347ef413",
   "metadata": {
    "collapsed": false,
    "pycharm": {
     "name": "#%%\n"
    }
   },
   "outputs": [],
   "source": [
    "# import torchvision\n",
    "# torchvision.datasets.__all__\n",
    "# from sklearn import datasets\n",
    "# datasets.__all__"
   ]
  },
  {
   "cell_type": "code",
   "execution_count": null,
   "id": "6f179e2b",
   "metadata": {},
   "outputs": [],
   "source": [
    "# sort\n",
    "\n",
    "#未排序的label是乱序的\n",
    "print(train_dataset['label'][:10])\n",
    "\n",
    "#排序之后label有序了\n",
    "sorted_dataset = train_dataset.sort('label')\n",
    "\n",
    "print(sorted_dataset['label'][:10])\n",
    "print(sorted_dataset['label'][-10:])"
   ]
  },
  {
   "cell_type": "code",
   "execution_count": null,
   "id": "0580b95d",
   "metadata": {},
   "outputs": [],
   "source": [
    "# shuffle\n",
    "\n",
    "# 打乱顺序\n",
    "shuffled_dataset = sorted_dataset.shuffle(seed=42)\n",
    "\n",
    "shuffled_dataset['label'][:10]"
   ]
  },
  {
   "cell_type": "code",
   "execution_count": null,
   "id": "4b645946",
   "metadata": {},
   "outputs": [],
   "source": [
    "# select\n",
    "tmp = train_dataset.select([0, 10, 20, 30, 40, 50])\n",
    "print(tmp)\n",
    "\n",
    "for t,l in zip(enumerate(tmp['text']), tmp['label']):\n",
    "    print(t[0], l, t[1])"
   ]
  },
  {
   "cell_type": "code",
   "execution_count": null,
   "id": "2a1fd2a0",
   "metadata": {},
   "outputs": [],
   "source": [
    "# filter\n",
    "def f(data):\n",
    "    return data['text'].startswith('选择')\n",
    "\n",
    "# start_with_ar = train_dataset.filter(f)\n",
    "\n",
    "start_with_ar = train_dataset.filter(lambda X: X['text'].startswith('选择'))\n",
    "\n",
    "len(start_with_ar), start_with_ar['text']"
   ]
  },
  {
   "cell_type": "code",
   "execution_count": null,
   "id": "90d50fce",
   "metadata": {},
   "outputs": [],
   "source": [
    "# train_test_split,\n",
    "# 切分训练集和测试集\n",
    "train_dataset.train_test_split(test_size=0.1)"
   ]
  },
  {
   "cell_type": "code",
   "execution_count": null,
   "id": "b7563dea",
   "metadata": {},
   "outputs": [],
   "source": [
    "# shard\n",
    "# 把数据切分到4个桶中,均匀分配\n",
    "train_dataset.shard(num_shards=4, index=0)"
   ]
  },
  {
   "cell_type": "code",
   "execution_count": null,
   "id": "71352b68",
   "metadata": {},
   "outputs": [],
   "source": [
    "# rename_column\n",
    "train_dataset.rename_column('text', 'textA')"
   ]
  },
  {
   "cell_type": "code",
   "execution_count": null,
   "id": "408abc59",
   "metadata": {},
   "outputs": [],
   "source": [
    "# remove_columns\n",
    "train_dataset.remove_columns(['text'])"
   ]
  },
  {
   "cell_type": "code",
   "execution_count": null,
   "id": "252d3de3",
   "metadata": {},
   "outputs": [],
   "source": [
    "# map\n",
    "def f(data):\n",
    "    data['text'] = 'My sentence: ' + data['text']\n",
    "    return data\n",
    "\n",
    "# datatset_map = train_dataset.map(f)\n",
    "dataset_map = train_dataset.map(lambda x: {'textA': 'My sentence: ' + x['text']})\n",
    "dataset_map[:5]['textA']"
   ]
  },
  {
   "cell_type": "code",
   "execution_count": null,
   "id": "56ff9517",
   "metadata": {},
   "outputs": [],
   "source": [
    "# set_format\n",
    "train_dataset.set_format(type='torch', columns=['label'])\n",
    "\n",
    "train_dataset[0]"
   ]
  },
  {
   "cell_type": "code",
   "execution_count": null,
   "id": "de71789e",
   "metadata": {},
   "outputs": [],
   "source": [
    "# 导出为csv格式\n",
    "\n",
    "# dataset = load_dataset(path='seamew/ChnSentiCorp', split='train')\n",
    "# dataset = load_from_disk(\"data/ChnSentiCorp\")[\"train\"]\n",
    "# dataset.to_csv(path_or_buf='data/temp/train.csv')\n",
    "\n",
    "# 加载csv格式数据\n",
    "csv_dataset = load_dataset(path='csv',\n",
    "                           data_files='data/temp/train.csv',\n",
    "                           split='train')  # 需要split这个参数 \n",
    "csv_dataset[20]"
   ]
  },
  {
   "cell_type": "code",
   "execution_count": null,
   "id": "7da34a2d",
   "metadata": {},
   "outputs": [],
   "source": [
    "# 导出为json格式\n",
    "# dataset = load_dataset(path='seamew/ChnSentiCorp', split='train')\n",
    "# dataset = load_from_disk('data/ChnSentiCorp')['test']\n",
    "# dataset.to_json(path_or_buf='data/temp/test.json')\n",
    "\n",
    "# 加载json格式数据\n",
    "json_dataset = load_dataset(path='json',\n",
    "                            data_files='data/temp/test.json',\n",
    "                            split='train')\n",
    "json_dataset[20]"
   ]
  },
  {
   "cell_type": "code",
   "execution_count": null,
   "id": "6d7c43ed",
   "metadata": {},
   "outputs": [],
   "source": []
  }
 ],
 "metadata": {
  "kernelspec": {
   "display_name": "Python 3",
   "language": "python",
   "name": "python3"
  },
  "language_info": {
   "codemirror_mode": {
    "name": "ipython",
    "version": 3
   },
   "file_extension": ".py",
   "mimetype": "text/x-python",
   "name": "python",
   "nbconvert_exporter": "python",
   "pygments_lexer": "ipython3",
   "version": "3.10.4"
  },
  "vscode": {
   "interpreter": {
    "hash": "3ad933181bd8a04b432d3370b9dc3b0662ad032c4dfaa4e4f1596c548f763858"
   }
  }
 },
 "nbformat": 4,
 "nbformat_minor": 5
}
